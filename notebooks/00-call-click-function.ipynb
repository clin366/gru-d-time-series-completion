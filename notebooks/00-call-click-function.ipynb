{
 "cells": [
  {
   "cell_type": "code",
   "execution_count": 7,
   "metadata": {},
   "outputs": [],
   "source": [
    "def call_click_command(cmd, *args, **kwargs):\n",
    "    \"\"\" Wrapper to call a click command\n",
    "\n",
    "    :param cmd: click cli command function to call \n",
    "    :param args: arguments to pass to the function \n",
    "    :param kwargs: keywrod arguments to pass to the function \n",
    "    :return: None \n",
    "    \"\"\"\n",
    "\n",
    "    # Get positional arguments from args\n",
    "    arg_values = {c.name: a for a, c in zip(args, cmd.params)}\n",
    "    args_needed = {c.name: c for c in cmd.params\n",
    "                   if c.name not in arg_values}\n",
    "\n",
    "    # build and check opts list from kwargs\n",
    "    opts = {a.name: a for a in cmd.params if isinstance(a, click.Option)}\n",
    "    for name in kwargs:\n",
    "        if name in opts:\n",
    "            arg_values[name] = kwargs[name]\n",
    "        else:\n",
    "            if name in args_needed:\n",
    "                arg_values[name] = kwargs[name]\n",
    "                del args_needed[name]\n",
    "            else:\n",
    "                raise click.BadParameter(\n",
    "                    \"Unknown keyword argument '{}'\".format(name))\n",
    "\n",
    "\n",
    "    # check positional arguments list\n",
    "    for arg in (a for a in cmd.params if isinstance(a, click.Argument)):\n",
    "        if arg.name not in arg_values:\n",
    "            raise click.BadParameter(\"Missing required positional\"\n",
    "                                     \"parameter '{}'\".format(arg.name))\n",
    "\n",
    "    # build parameter lists\n",
    "    opts_list = sum(\n",
    "        [[o.opts[0], str(arg_values[n])] for n, o in opts.items()], [])\n",
    "    args_list = [str(v) for n, v in arg_values.items() if n not in opts]\n",
    "    print('call_list')\n",
    "    print(opts_list)\n",
    "    print(args_list)\n",
    "    # call the command\n",
    "    cmd(opts_list + args_list)"
   ]
  },
  {
   "cell_type": "code",
   "execution_count": 16,
   "metadata": {},
   "outputs": [
    {
     "name": "stdout",
     "output_type": "stream",
     "text": [
      "Click Version: 7.0\n",
      "Python Version: 3.6.10 |Anaconda, Inc.| (default, Jan  7 2020, 15:01:53) \n",
      "[GCC 4.2.1 Compatible Clang 4.0.1 (tags/RELEASE_401/final)]\n",
      "-----------\n",
      "> (3, 4, 'arg', {})\n",
      "call_list\n",
      "['-w', '3', '--option2', '4']\n",
      "['arg']\n",
      "params: 3 4 arg\n",
      "-----------\n",
      "> (3, 4, {'argument': 'arg'})\n",
      "call_list\n",
      "['-w', '3', '--option2', '4']\n",
      "['arg']\n",
      "params: 3 4 arg\n",
      "-----------\n",
      "> (3, {'option2': 4, 'argument': 'arg'})\n",
      "call_list\n",
      "['-w', '3', '--option2', '4']\n",
      "['arg']\n",
      "params: 3 4 arg\n",
      "-----------\n",
      "> ({'width': 3, 'option2': 4, 'argument': 'arg'},)\n",
      "call_list\n",
      "['-w', '3', '--option2', '4']\n",
      "['arg']\n",
      "params: 3 4 arg\n"
     ]
    }
   ],
   "source": [
    "import click\n",
    "\n",
    "@click.command()\n",
    "@click.option('-w', '--width', type=int, default=0)\n",
    "@click.option('--option2', default = '4')\n",
    "@click.argument('argument')\n",
    "def app(width, option2, argument):\n",
    "    click.echo(\"params: {} {} {}\".format(width, option2, argument))\n",
    "    assert width == 3\n",
    "    assert option2 == '4'\n",
    "    assert argument == 'arg'\n",
    "\n",
    "\n",
    "width = 3\n",
    "option2 = 4\n",
    "argument = 'arg'\n",
    "\n",
    "if __name__ == \"__main__\":\n",
    "    commands = (\n",
    "        (width, option2, argument, {}),\n",
    "        (width, option2, dict(argument=argument)),\n",
    "        (width, dict(option2=option2, argument=argument)),\n",
    "        (dict(width=width, option2=option2, argument=argument),),\n",
    "    )\n",
    "\n",
    "    import sys, time\n",
    "\n",
    "    time.sleep(1)\n",
    "    print('Click Version: {}'.format(click.__version__))\n",
    "    print('Python Version: {}'.format(sys.version))\n",
    "    for cmd in commands:\n",
    "        try:\n",
    "            time.sleep(0.1)\n",
    "            print('-----------')\n",
    "            print('> {}'.format(cmd))\n",
    "            time.sleep(0.1)\n",
    "            call_click_command(app, *cmd[:-1], **cmd[-1])\n",
    "\n",
    "        except BaseException as exc:\n",
    "            if str(exc) != '0' and \\\n",
    "                    not isinstance(exc, (click.ClickException, SystemExit)):\n",
    "                raise"
   ]
  },
  {
   "cell_type": "code",
   "execution_count": 18,
   "metadata": {},
   "outputs": [
    {
     "data": {
      "text/plain": [
       "{'width': 3, 'option2': 4, 'argument': 'arg'}"
      ]
     },
     "execution_count": 18,
     "metadata": {},
     "output_type": "execute_result"
    }
   ],
   "source": [
    "cmd[-1]"
   ]
  },
  {
   "cell_type": "code",
   "execution_count": 15,
   "metadata": {},
   "outputs": [
    {
     "name": "stdout",
     "output_type": "stream",
     "text": [
      "call_list\n",
      "['-w', '3', '--option2', '4']\n",
      "['arg']\n",
      "params: 3 4 arg\n"
     ]
    },
    {
     "name": "stderr",
     "output_type": "stream",
     "text": [
      "ERROR:root:Internal Python error in the inspect module.\n",
      "Below is the traceback from this internal error.\n",
      "\n"
     ]
    },
    {
     "name": "stdout",
     "output_type": "stream",
     "text": [
      "Traceback (most recent call last):\n",
      "  File \"/Users/flynn/Documents/Desktop/softs/miniconda/envs/airpol/lib/python3.6/site-packages/click/core.py\", line 727, in main\n",
      "    ctx.exit()\n",
      "  File \"/Users/flynn/Documents/Desktop/softs/miniconda/envs/airpol/lib/python3.6/site-packages/click/core.py\", line 504, in exit\n",
      "    raise Exit(code)\n",
      "click.exceptions.Exit: 0\n",
      "\n",
      "During handling of the above exception, another exception occurred:\n",
      "\n",
      "Traceback (most recent call last):\n",
      "  File \"/Users/flynn/Documents/Desktop/softs/miniconda/envs/airpol/lib/python3.6/site-packages/IPython/core/interactiveshell.py\", line 3319, in run_code\n",
      "    exec(code_obj, self.user_global_ns, self.user_ns)\n",
      "  File \"<ipython-input-15-c666213ae141>\", line 1, in <module>\n",
      "    call_click_command(app, *cmd[:-1], **cmd[-1])\n",
      "  File \"<ipython-input-7-12c68fd4fafc>\", line 43, in call_click_command\n",
      "    cmd(opts_list + args_list)\n",
      "  File \"/Users/flynn/Documents/Desktop/softs/miniconda/envs/airpol/lib/python3.6/site-packages/click/core.py\", line 764, in __call__\n",
      "    return self.main(*args, **kwargs)\n",
      "  File \"/Users/flynn/Documents/Desktop/softs/miniconda/envs/airpol/lib/python3.6/site-packages/click/core.py\", line 745, in main\n",
      "    sys.exit(e.exit_code)\n",
      "SystemExit: 0\n",
      "\n",
      "During handling of the above exception, another exception occurred:\n",
      "\n",
      "Traceback (most recent call last):\n",
      "  File \"/Users/flynn/Documents/Desktop/softs/miniconda/envs/airpol/lib/python3.6/site-packages/IPython/core/ultratb.py\", line 1151, in get_records\n",
      "    return _fixed_getinnerframes(etb, number_of_lines_of_context, tb_offset)\n",
      "  File \"/Users/flynn/Documents/Desktop/softs/miniconda/envs/airpol/lib/python3.6/site-packages/IPython/core/ultratb.py\", line 319, in wrapped\n",
      "    return f(*args, **kwargs)\n",
      "  File \"/Users/flynn/Documents/Desktop/softs/miniconda/envs/airpol/lib/python3.6/site-packages/IPython/core/ultratb.py\", line 353, in _fixed_getinnerframes\n",
      "    records = fix_frame_records_filenames(inspect.getinnerframes(etb, context))\n",
      "  File \"/Users/flynn/Documents/Desktop/softs/miniconda/envs/airpol/lib/python3.6/inspect.py\", line 1490, in getinnerframes\n",
      "    frameinfo = (tb.tb_frame,) + getframeinfo(tb, context)\n",
      "AttributeError: 'tuple' object has no attribute 'tb_frame'\n"
     ]
    },
    {
     "ename": "SystemExit",
     "evalue": "0",
     "output_type": "error",
     "traceback": [
      "An exception has occurred, use %tb to see the full traceback.\n",
      "\u001b[0;31m---------------------------------------------------------------------------\u001b[0m",
      "\nDuring handling of the above exception, another exception occurred:\n",
      "\u001b[0;31mSystemExit\u001b[0m\u001b[0;31m:\u001b[0m 0\n"
     ]
    }
   ],
   "source": [
    "call_click_command(app, *cmd[:-1], **cmd[-1])"
   ]
  },
  {
   "cell_type": "code",
   "execution_count": 10,
   "metadata": {},
   "outputs": [],
   "source": [
    "b = ['arg']"
   ]
  },
  {
   "cell_type": "code",
   "execution_count": 12,
   "metadata": {},
   "outputs": [
    {
     "name": "stdout",
     "output_type": "stream",
     "text": [
      "params: 3 4 arg\n"
     ]
    },
    {
     "name": "stderr",
     "output_type": "stream",
     "text": [
      "ERROR:root:Internal Python error in the inspect module.\n",
      "Below is the traceback from this internal error.\n",
      "\n"
     ]
    },
    {
     "name": "stdout",
     "output_type": "stream",
     "text": [
      "Traceback (most recent call last):\n",
      "  File \"/Users/flynn/Documents/Desktop/softs/miniconda/envs/airpol/lib/python3.6/site-packages/click/core.py\", line 727, in main\n",
      "    ctx.exit()\n",
      "  File \"/Users/flynn/Documents/Desktop/softs/miniconda/envs/airpol/lib/python3.6/site-packages/click/core.py\", line 504, in exit\n",
      "    raise Exit(code)\n",
      "click.exceptions.Exit: 0\n",
      "\n",
      "During handling of the above exception, another exception occurred:\n",
      "\n",
      "Traceback (most recent call last):\n",
      "  File \"/Users/flynn/Documents/Desktop/softs/miniconda/envs/airpol/lib/python3.6/site-packages/IPython/core/interactiveshell.py\", line 3319, in run_code\n",
      "    exec(code_obj, self.user_global_ns, self.user_ns)\n",
      "  File \"<ipython-input-12-f8c751cfb437>\", line 1, in <module>\n",
      "    app(a + b)\n",
      "  File \"/Users/flynn/Documents/Desktop/softs/miniconda/envs/airpol/lib/python3.6/site-packages/click/core.py\", line 764, in __call__\n",
      "    return self.main(*args, **kwargs)\n",
      "  File \"/Users/flynn/Documents/Desktop/softs/miniconda/envs/airpol/lib/python3.6/site-packages/click/core.py\", line 745, in main\n",
      "    sys.exit(e.exit_code)\n",
      "SystemExit: 0\n",
      "\n",
      "During handling of the above exception, another exception occurred:\n",
      "\n",
      "Traceback (most recent call last):\n",
      "  File \"/Users/flynn/Documents/Desktop/softs/miniconda/envs/airpol/lib/python3.6/site-packages/IPython/core/ultratb.py\", line 1151, in get_records\n",
      "    return _fixed_getinnerframes(etb, number_of_lines_of_context, tb_offset)\n",
      "  File \"/Users/flynn/Documents/Desktop/softs/miniconda/envs/airpol/lib/python3.6/site-packages/IPython/core/ultratb.py\", line 319, in wrapped\n",
      "    return f(*args, **kwargs)\n",
      "  File \"/Users/flynn/Documents/Desktop/softs/miniconda/envs/airpol/lib/python3.6/site-packages/IPython/core/ultratb.py\", line 353, in _fixed_getinnerframes\n",
      "    records = fix_frame_records_filenames(inspect.getinnerframes(etb, context))\n",
      "  File \"/Users/flynn/Documents/Desktop/softs/miniconda/envs/airpol/lib/python3.6/inspect.py\", line 1490, in getinnerframes\n",
      "    frameinfo = (tb.tb_frame,) + getframeinfo(tb, context)\n",
      "AttributeError: 'tuple' object has no attribute 'tb_frame'\n"
     ]
    },
    {
     "ename": "SystemExit",
     "evalue": "0",
     "output_type": "error",
     "traceback": [
      "An exception has occurred, use %tb to see the full traceback.\n",
      "\u001b[0;31m---------------------------------------------------------------------------\u001b[0m",
      "\nDuring handling of the above exception, another exception occurred:\n",
      "\u001b[0;31mSystemExit\u001b[0m\u001b[0;31m:\u001b[0m 0\n"
     ]
    },
    {
     "name": "stderr",
     "output_type": "stream",
     "text": [
      "/Users/flynn/Documents/Desktop/softs/miniconda/envs/airpol/lib/python3.6/site-packages/IPython/core/interactiveshell.py:3327: UserWarning: To exit: use 'exit', 'quit', or Ctrl-D.\n",
      "  warn(\"To exit: use 'exit', 'quit', or Ctrl-D.\", stacklevel=1)\n"
     ]
    }
   ],
   "source": [
    "app(a + b)"
   ]
  },
  {
   "cell_type": "code",
   "execution_count": null,
   "metadata": {},
   "outputs": [],
   "source": []
  }
 ],
 "metadata": {
  "kernelspec": {
   "display_name": "Python [conda env:airpol]",
   "language": "python",
   "name": "conda-env-airpol-py"
  },
  "language_info": {
   "codemirror_mode": {
    "name": "ipython",
    "version": 3
   },
   "file_extension": ".py",
   "mimetype": "text/x-python",
   "name": "python",
   "nbconvert_exporter": "python",
   "pygments_lexer": "ipython3",
   "version": "3.6.10"
  }
 },
 "nbformat": 4,
 "nbformat_minor": 4
}
